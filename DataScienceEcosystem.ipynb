{
 "cells": [
  {
   "cell_type": "markdown",
   "id": "082cd084-59d1-4da9-901a-5192434b63d8",
   "metadata": {},
   "source": [
    "# Data Science Tools and Exosystem"
   ]
  },
  {
   "cell_type": "markdown",
   "id": "2af53e61-7faa-47cf-8a60-b936f2576529",
   "metadata": {},
   "source": [
    "In this notebook, Data Science Tools and Ecosystem are summarized."
   ]
  },
  {
   "cell_type": "markdown",
   "id": "1fb4d64c-2efd-4b2d-a62c-4457a32f5ec0",
   "metadata": {},
   "source": [
    "**Objectives:**\n",
    "- List popular languages for Data Science\n",
    "- List commonly used Data Science libraries\n",
    "- List commonly used Data Science tools\n",
    "- Demonstrate basic arithmetic expressions in Python\n"
   ]
  },
  {
   "cell_type": "markdown",
   "id": "3af30d54-9dbb-4fad-93d9-3af4abbde7e0",
   "metadata": {},
   "source": [
    "Some of the popular languages that Data Scientists use are:"
   ]
  },
  {
   "cell_type": "markdown",
   "id": "a7a7c12c-8db8-4ce3-811d-14455e00e692",
   "metadata": {},
   "source": [
    "1. Python\n",
    "2. R\n",
    "3. SQL"
   ]
  },
  {
   "cell_type": "markdown",
   "id": "23563c8b-1338-464e-b894-ffa4b87197b9",
   "metadata": {},
   "source": [
    "Some of the commonly used libraries used by Data Scientists include:"
   ]
  },
  {
   "cell_type": "markdown",
   "id": "dce8d6b1-0027-4908-ab04-f5fb9886e1e0",
   "metadata": {},
   "source": [
    "1. NumPy\n",
    "2. matplotlib\n",
    "3. Pandas\n",
    "4. Tensorflow\n",
    "5. ggplot"
   ]
  },
  {
   "cell_type": "markdown",
   "id": "c888b5f3-c6a0-4473-bfd0-95961bf3c153",
   "metadata": {},
   "source": [
    "| Data Science Tools |\n",
    "| --------- |\n",
    "| mySQL |\n",
    "| Rstudio |\n",
    "| Apache Airflow |\n",
    "| Prometheus |\n",
    "| GitHub |"
   ]
  },
  {
   "cell_type": "markdown",
   "id": "d65c0887-7455-440f-9ae6-376f63af1e4d",
   "metadata": {},
   "source": [
    "### Below are a few examples of evaluating arithmetic expressions in Python"
   ]
  },
  {
   "cell_type": "code",
   "execution_count": 16,
   "id": "28f4c165-976f-496f-8a72-00ec31313e04",
   "metadata": {},
   "outputs": [
    {
     "data": {
      "text/plain": [
       "17"
      ]
     },
     "execution_count": 16,
     "metadata": {},
     "output_type": "execute_result"
    }
   ],
   "source": [
    "# This is a simple arithmetic expression to multiply and then add integers\n",
    "\n",
    "(3*4)+5"
   ]
  },
  {
   "cell_type": "code",
   "execution_count": 20,
   "id": "835dd5b5-e9b8-47ae-af7e-c9fda42f9069",
   "metadata": {},
   "outputs": [
    {
     "data": {
      "text/plain": [
       "3.3333333333333335"
      ]
     },
     "execution_count": 20,
     "metadata": {},
     "output_type": "execute_result"
    }
   ],
   "source": [
    "# This will convert 200 minutes to hours by dividing by 60\n",
    "\n",
    "200/60"
   ]
  },
  {
   "cell_type": "markdown",
   "id": "89d649d3-8201-4fc0-8ed1-1c845c1a6b76",
   "metadata": {},
   "source": [
    "## Author\n",
    "Brian Norris"
   ]
  }
 ],
 "metadata": {
  "kernelspec": {
   "display_name": "Python 3 (ipykernel)",
   "language": "python",
   "name": "python3"
  },
  "language_info": {
   "codemirror_mode": {
    "name": "ipython",
    "version": 3
   },
   "file_extension": ".py",
   "mimetype": "text/x-python",
   "name": "python",
   "nbconvert_exporter": "python",
   "pygments_lexer": "ipython3",
   "version": "3.12.7"
  }
 },
 "nbformat": 4,
 "nbformat_minor": 5
}
